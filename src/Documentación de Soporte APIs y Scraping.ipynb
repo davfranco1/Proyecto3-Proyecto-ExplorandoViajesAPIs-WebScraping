{
 "cells": [
  {
   "cell_type": "markdown",
   "metadata": {},
   "source": [
    "## Documentación de Soporte APIs y Scraping"
   ]
  },
  {
   "cell_type": "markdown",
   "metadata": {},
   "source": [
    "### API Air Scraper\n",
    "\n",
    "Esta API proporciona datos en tiempo real sobre vuelos, hoteles y coches de alquiler. Se puede consultar sobre su uso y documentación accediendo a: https://rapidapi.com/apiheya/api/sky-scrapper. Ofrece hasta 500 consultas gratis al mes con una cuenta básica de Rapidapi.\n",
    "\n",
    "#### Consulta de código y ID de aeropuerto:\n",
    "https://rapidapi.com/apiheya/api/sky-scrapper/playground/apiendpoint_efcce954-2563-41cb-97fc-b2abe7851b3d\n",
    "\n",
    "#### Query de vuelos:\n",
    "https://rapidapi.com/apiheya/api/sky-scrapper/playground/apiendpoint_9c350fd4-7208-4d87-905d-6906793c6f80"
   ]
  },
  {
   "cell_type": "markdown",
   "metadata": {},
   "source": [
    "### API Booking COM\n",
    "\n",
    "Esta API porporciona datos en tiempo real sobre vuelos, hoteles, coches de alquiler, taxis y atracciones. Se puede consultar sobre su uso y documentación accediendo a: https://rapidapi.com/ntd119/api/booking-com18. Ofrece hasta 530 consultas gratis al mes con una cuenta básica de Rapidapi.\n",
    "\n",
    "#### Consulta de códigos de ciudades:\n",
    "https://rapidapi.com/ntd119/api/booking-com18/playground/apiendpoint_42a40ac3-8a6b-40c6-8bf3-42a0b57c6d63\n",
    "\n",
    "#### Query de ciudades:\n",
    "https://rapidapi.com/ntd119/api/booking-com18/playground/apiendpoint_08901e12-035e-49ef-a54f-1bb3049d700e\n",
    "\n"
   ]
  }
 ],
 "metadata": {
  "language_info": {
   "name": "python"
  }
 },
 "nbformat": 4,
 "nbformat_minor": 2
}
